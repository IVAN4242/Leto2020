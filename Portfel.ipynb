{
 "cells": [
  {
   "cell_type": "code",
   "execution_count": 1,
   "metadata": {},
   "outputs": [],
   "source": [
    "def fd(s): # замена цен на разницу цен\n",
    "    for i in range(np.size(s)-1):\n",
    "        s[i] = s[i+1]/s[i] - 1\n",
    "\n",
    "def profitability_and_risk(s): # поиск среднего риска и средней доходности \n",
    "    fd(s)\n",
    "    s = s[:11]\n",
    "    smean = np.mean(s)\n",
    "    average_income.append(smean)\n",
    "    sstd = np.std(s)\n",
    "    average_risk.append(sstd)\n",
    "\n",
    "def total_revenue_function(p, sd): # поиск общей доходности \n",
    "    od = 0\n",
    "    for i in range(np.size(p)):\n",
    "        od +=  p[i]*sd[i]\n",
    "    return od\n",
    "\n",
    "\n",
    "import numpy as np\n",
    "from scipy.optimize import minimize\n",
    "\n",
    "# получение котировок из файла \n",
    "securities1 = np.genfromtxt('1.txt', delimiter=' ', names=True)\n",
    "securities2 = np.genfromtxt('2.txt', delimiter=' ', names=True)\n",
    "securities3 = np.genfromtxt('3.txt', delimiter=' ', names=True)\n",
    "\n",
    "# начальные доли акций \n",
    "proportion1 = 0.25 \n",
    "proportion2 = 0.25 \n",
    "proportion3 = 0.5\n",
    "proportion = np.array([proportion1, proportion2, proportion3])\n",
    "\n",
    "# средняя доходность и средний риск\n",
    "average_income = []\n",
    "average_risk = []\n",
    "\n",
    "# избавление от лишних столбцов\n",
    "securities1 = securities1['CLOSE']\n",
    "securities2 = securities2['CLOSE']\n",
    "securities3 = securities3['CLOSE']\n",
    "\n",
    "# преобразование основного массива к нужному виду \n",
    "tmp = np.array([securities1, securities2, securities3])\n",
    "for i in range(len(tmp)):\n",
    "    profitability_and_risk(tmp[i])\n",
    "for i in range(3):\n",
    "    tmp[i] = tmp[i][:11]\n",
    "    \n",
    "array = np.zeros((3,11))\n",
    "for i in range(3):\n",
    "    array[i] = tmp[i][:11]\n",
    "\n",
    "# роиск ковариационной матрицы\n",
    "cov = np.cov(array)\n",
    "\n",
    "# поиск общего риска портфеля (есть ошибка!)\n",
    "total_risk = np.matmul(proportion, cov)\n",
    "total_risk = np.matmul(total_risk, proportion)\n",
    "\n",
    "# поиск общей доходности портфеля\n",
    "total_revenue = total_revenue_function(proportion, average_income)"
   ]
  },
  {
   "cell_type": "code",
   "execution_count": 2,
   "metadata": {},
   "outputs": [
    {
     "name": "stdout",
     "output_type": "stream",
     "text": [
      "Ковариационная матрица  \n",
      " [[ 0.00111939 -0.00093815  0.00038052]\n",
      " [-0.00093815  0.01294495 -0.00145022]\n",
      " [ 0.00038052 -0.00145022  0.00426609]]\n",
      "\n",
      "\n",
      "Доходность акции  1 : 3.11 %\n",
      "Доходность акции  2 : 4.34 %\n",
      "Доходность акции  3 : 2.58 %\n",
      "\n",
      "\n",
      "Риск акции  1 : 3.19 %\n",
      "Риск акции  2 : 10.85 %\n",
      "Риск акции  3 : 6.23 %\n",
      "\n",
      "\n",
      "Общяя доходность портфеля  3.15 %\n",
      "Общий риск портфеля  0.16 %\n"
     ]
    }
   ],
   "source": [
    "# Вывод данных о портфеле\n",
    "print(\"Ковариационная матрица \", '\\n', cov)\n",
    "print('\\n')\n",
    "for i in range(3):\n",
    "    print(\"Доходность акции \", i+1, \":\", \"%.2f\" % (average_income[i]*100), \"%\")\n",
    "print('\\n')\n",
    "for i in range(3):\n",
    "    print(\"Риск акции \", i+1, \":\", \"%.2f\" % (average_risk[i]*100), \"%\")\n",
    "print('\\n')\n",
    "print(\"Общяя доходность портфеля \", \"%.2f\" % (total_revenue*100), \"%\")\n",
    "print(\"Общий риск портфеля \", \"%.2f\" % (total_risk*100), \"%\")"
   ]
  },
  {
   "cell_type": "code",
   "execution_count": 3,
   "metadata": {},
   "outputs": [
    {
     "data": {
      "text/plain": [
       "     fun: 1.003878267268145\n",
       "     jac: array([ 7.61047006e-04, -2.90043652e-03,  1.99999999e+00])\n",
       " message: 'Positive directional derivative for linesearch'\n",
       "    nfev: 168\n",
       "     nit: 20\n",
       "    njev: 16\n",
       "  status: 8\n",
       " success: False\n",
       "       x: array([0.00000000e+00, 3.05436096e-15, 1.00000000e+00])"
      ]
     },
     "execution_count": 3,
     "metadata": {},
     "output_type": "execute_result"
    }
   ],
   "source": [
    "# Минимизация риска при заданной доходности в 2% (не работает!)\n",
    "def objective(x, cov, sr): # функция риска\n",
    "         x1=x[0];x2=x[1];x3=x[2]\n",
    "         return x1**2*sr[0]**2+x1*x2*cov[0][1]+x1*x3*cov[0][2]+x2*x1*cov[1][0]+x2**2*sr[1]**2+x2*x3*cov[1][2]+x3*x1*cov[2][0]+x3*x2*cov[2][1]+x3**2+sr[2]**2\n",
    "        \n",
    "def constraint1(x): # ограничение на сумму долей\n",
    "         return x[0]+x[1]+x[2]-1.0\n",
    "def constraint2(x): # задание конкретной доходности       \n",
    "         return average_income[0]*x[0] + average_income[1]*x[1] + average_income[2]*x[2] - 0.02\n",
    "    \n",
    "x0=[proportion1,proportion2,proportion3]# изначальные доли акций\n",
    "\n",
    "b=(0.0,1.0) # диапозон X\n",
    "bnds=(b,b,b)\n",
    "\n",
    "con1={'type':'ineq','fun': constraint1}\n",
    "con2={'type':'eq','fun': constraint2}\n",
    "cons=[con1,con2]\n",
    "\n",
    "sol=minimize(objective,x0,args=(cov,average_risk),method='SLSQP',bounds=bnds,constraints=cons)\n",
    "sol"
   ]
  }
 ],
 "metadata": {
  "kernelspec": {
   "display_name": "Python 3",
   "language": "python",
   "name": "python3"
  },
  "language_info": {
   "codemirror_mode": {
    "name": "ipython",
    "version": 3
   },
   "file_extension": ".py",
   "mimetype": "text/x-python",
   "name": "python",
   "nbconvert_exporter": "python",
   "pygments_lexer": "ipython3",
   "version": "3.8.3"
  }
 },
 "nbformat": 4,
 "nbformat_minor": 4
}
