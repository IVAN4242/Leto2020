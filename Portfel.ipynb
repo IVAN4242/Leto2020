{
 "cells": [
  {
   "cell_type": "code",
   "execution_count": 1,
   "metadata": {},
   "outputs": [],
   "source": [
    "def fd(s): # замена цен на разницу цен\n",
    "    for i in range(np.size(s)-1):\n",
    "        s[i] = s[i+1]/s[i] - 1\n",
    "\n",
    "def profitability_and_risk(s): # поиск среднего риска и средней доходности \n",
    "    fd(s)\n",
    "    s = s[:11]\n",
    "    smean = np.mean(s)\n",
    "    average_income.append(smean)\n",
    "    sstd = np.std(s)\n",
    "    average_risk.append(sstd)\n",
    "\n",
    "def total_revenue_function(p, sd): # поиск общей доходности \n",
    "    od = 0\n",
    "    for i in range(np.size(p)):\n",
    "        od +=  p[i]*sd[i]\n",
    "    return od\n",
    "\n",
    "from math import sqrt\n",
    "import numpy as np\n",
    "from scipy.optimize import minimize\n",
    "\n",
    "# получение котировок из файла \n",
    "securities1 = np.genfromtxt('visa.txt', delimiter=' ', names=True)\n",
    "securities2 = np.genfromtxt('macys.txt', delimiter=' ', names=True)\n",
    "securities3 = np.genfromtxt('apple.txt', delimiter=' ', names=True)\n",
    "\n",
    "# начальные доли акций \n",
    "proportion1 = 0.25 \n",
    "proportion2 = 0.25 \n",
    "proportion3 = 0.5\n",
    "proportion = np.array([proportion1, proportion2, proportion3])\n",
    "\n",
    "# средняя доходность и средний риск\n",
    "average_income = []\n",
    "average_risk = []\n",
    "\n",
    "# избавление от лишних столбцов\n",
    "securities1 = securities1['CLOSE']\n",
    "securities2 = securities2['CLOSE']\n",
    "securities3 = securities3['CLOSE']\n",
    "\n",
    "# преобразование основного массива к нужному виду \n",
    "tmp = np.array([securities1, securities2, securities3])\n",
    "for i in range(len(tmp)):\n",
    "    profitability_and_risk(tmp[i])\n",
    "for i in range(3):\n",
    "    tmp[i] = tmp[i][:11]\n",
    "    \n",
    "array = np.zeros((3,11))\n",
    "for i in range(3):\n",
    "    array[i] = tmp[i][:11]\n",
    "\n",
    "# роиск ковариационной матрицы\n",
    "cov = np.cov(array)\n",
    "\n",
    "# поиск общего риска портфеля\n",
    "total_risk = np.matmul(proportion, cov)\n",
    "total_risk = sqrt(np.matmul(total_risk, proportion))\n",
    "\n",
    "# поиск общей доходности портфеля\n",
    "total_revenue = total_revenue_function(proportion, average_income)"
   ]
  },
  {
   "cell_type": "code",
   "execution_count": 2,
   "metadata": {},
   "outputs": [
    {
     "name": "stdout",
     "output_type": "stream",
     "text": [
      "Ковариационная матрица  \n",
      " [[ 0.00111939 -0.00093815  0.00038052]\n",
      " [-0.00093815  0.01294495 -0.00145022]\n",
      " [ 0.00038052 -0.00145022  0.00426609]]\n",
      "\n",
      "\n",
      "Доходность акции  1 : 3.11 %\n",
      "Доходность акции  2 : 4.34 %\n",
      "Доходность акции  3 : 2.58 %\n",
      "\n",
      "\n",
      "Риск акции  1 : 3.19 %\n",
      "Риск акции  2 : 10.85 %\n",
      "Риск акции  3 : 6.23 %\n",
      "\n",
      "\n",
      "Общяя доходность портфеля  3.15 %\n",
      "Общий риск портфеля  3.95 %\n"
     ]
    }
   ],
   "source": [
    "# Вывод данных о портфеле\n",
    "print(\"Ковариационная матрица \", '\\n', cov)\n",
    "print('\\n')\n",
    "for i in range(3):\n",
    "    print(\"Доходность акции \", i+1, \":\", \"%.2f\" % (average_income[i]*100), \"%\")\n",
    "print('\\n')\n",
    "for i in range(3):\n",
    "    print(\"Риск акции \", i+1, \":\", \"%.2f\" % (average_risk[i]*100), \"%\")\n",
    "print('\\n')\n",
    "print(\"Общяя доходность портфеля \", \"%.2f\" % (total_revenue*100), \"%\")\n",
    "print(\"Общий риск портфеля \", \"%.2f\" % (total_risk*100), \"%\")"
   ]
  },
  {
   "cell_type": "code",
   "execution_count": 3,
   "metadata": {},
   "outputs": [
    {
     "name": "stdout",
     "output_type": "stream",
     "text": [
      "Доля акции  1 : 1.17 %\n",
      "Доля акции  2 : 0.00 %\n",
      "Доля акции  3 : 98.83 %\n",
      "\n",
      "\n"
     ]
    }
   ],
   "source": [
    "# Минимизация риска при заданной доходности в 2.59%\n",
    "def objective(x): # функция риска\n",
    "    y = np.matmul(x, cov)\n",
    "    return sqrt(np.matmul(y, proportion))\n",
    "         \n",
    "            \n",
    "            \n",
    "def constraint1(x): # ограничение на сумму долей\n",
    "    return x[0]+x[1]+x[2]-1.0\n",
    "def constraint2(x): # задание конкретной доходности\n",
    "    tmp = 0\n",
    "    for i in range(3):\n",
    "        tmp += average_income[i]*x[i] \n",
    "    return tmp - 0.0259\n",
    "    \n",
    "x0=[proportion1,proportion2,proportion3]# изначальные доли акций\n",
    "\n",
    "b=(0.0,1.0) # диапозон X\n",
    "bnds=(b,b,b)\n",
    "\n",
    "con1={'type':'eq','fun': constraint1}\n",
    "con2={'type':'eq','fun': constraint2}\n",
    "cons=[con1,con2]\n",
    "\n",
    "sol=minimize(objective,x0,method='SLSQP',bounds=bnds,constraints=cons)\n",
    "for i in range(3):\n",
    "    print(\"Доля акции \", i+1, \":\", \"%.2f\" % (sol.x[i]*100), \"%\")\n",
    "print('\\n')"
   ]
  },
  {
   "cell_type": "code",
   "execution_count": 4,
   "metadata": {},
   "outputs": [],
   "source": [
    "def optimumD(d):\n",
    "    def objective(x): # функция риска\n",
    "        y = np.matmul(x, cov)\n",
    "        return sqrt(np.matmul(y, proportion))\n",
    "         \n",
    "            \n",
    "            \n",
    "    def constraint1(x): # ограничение на сумму долей\n",
    "         return x[0]+x[1]+x[2]-1.0\n",
    "    def constraint2(x): # задание конкретной доходности       \n",
    "        tmp = 0\n",
    "        for i in range(3):\n",
    "            tmp += average_income[i]*x[i] \n",
    "        return tmp - d\n",
    "    \n",
    "    x0=[proportion1,proportion2,proportion3]# изначальные доли акций\n",
    "\n",
    "    b=(0.0,1.0) # диапозон X\n",
    "    bnds=(b,b,b)\n",
    "\n",
    "    con1={'type':'eq','fun': constraint1}\n",
    "    con2={'type':'eq','fun': constraint2}\n",
    "    cons=[con1,con2]\n",
    "\n",
    "    sol=minimize(objective,x0,method='SLSQP',bounds=bnds,constraints=cons)\n",
    "\n",
    "    e = sol.fun*100\n",
    "    return e"
   ]
  },
  {
   "cell_type": "code",
   "execution_count": 5,
   "metadata": {},
   "outputs": [],
   "source": [
    "def optimumR(r):\n",
    "    \n",
    "    def objective(x): # функция доходности\n",
    "        tmp = 0\n",
    "        for i in range(3):\n",
    "            tmp += average_income[i]*x[i] \n",
    "        return -tmp\n",
    "            \n",
    "    def constraint1(x): # ограничение на сумму долей\n",
    "         return x[0]+x[1]+x[2]-1.0\n",
    "\n",
    "    def constraint2(x): # задание конкретного риска       \n",
    "        y = np.matmul(x, cov)\n",
    "        return sqrt(np.matmul(y, proportion)) - r\n",
    "    \n",
    "    x0=[proportion1,proportion2,proportion3]# изначальные доли акций\n",
    "\n",
    "    b=(0.0,1.0) # диапозон X\n",
    "    bnds=(b,b,b)\n",
    "\n",
    "    con1={'type':'eq','fun': constraint1}\n",
    "    con2={'type':'eq','fun': constraint2}\n",
    "    cons=[con1,con2]\n",
    "\n",
    "    sol=minimize(objective,x0,method='SLSQP',bounds=bnds,constraints=cons)\n",
    "    e = sol.fun*(-100)\n",
    "    return e"
   ]
  },
  {
   "cell_type": "code",
   "execution_count": 6,
   "metadata": {},
   "outputs": [],
   "source": [
    "oR =[] # передаю уже готовый массив заданного риска в plt.plot, так как при передаче функции возникает ошибка\n",
    "for i in range(154, 478, 1):\n",
    "    oR.append(optimumR(i/10000))"
   ]
  },
  {
   "cell_type": "code",
   "execution_count": 7,
   "metadata": {},
   "outputs": [],
   "source": [
    "oD =[] # передаю уже готовый массив заданной дохлдности в plt.plot, так как при передаче функции возникает ошибка\n",
    "for i in range(259, 435, 1):\n",
    "    oD.append(optimumD(i/10000))"
   ]
  },
  {
   "cell_type": "code",
   "execution_count": 8,
   "metadata": {},
   "outputs": [
    {
     "name": "stdout",
     "output_type": "stream",
     "text": [
      "Задать тестовую точку\n",
      "Доходность в %: 3\n",
      "Риск в %: 3\n"
     ]
    },
    {
     "data": {
      "image/png": "[encoded data removed]",
      "text/plain": [
       "<Figure size 864x288 with 2 Axes>"
      ]
     },
     "metadata": {
      "needs_background": "light"
     },
     "output_type": "display_data"
    }
   ],
   "source": [
    "import matplotlib.pyplot as plt\n",
    "\n",
    "# создаём область, в которой будет отображаться график\n",
    "x1 = np.linspace(2.59, 4.34, 176)\n",
    "x2 = np.linspace(1.54, 4.77, 324)\n",
    "\n",
    "x = 3.0\n",
    "y = 3.0\n",
    "print(\"Задать тестовую точку\")\n",
    "x = float(input(\"Доходность в %: \"))\n",
    "y = float(input(\"Риск в %: \"))\n",
    "\n",
    "# рисуем график 1\n",
    "plt.figure(figsize=(12, 4))\n",
    "\n",
    "plt.subplot(1, 2, 1)\n",
    "plt.plot(x1, oD)\n",
    "plt.plot(oR, x2, '--')\n",
    "plt.scatter(x, y, c='r')\n",
    "plt.legend(['минимализация риска', 'максимизация доходности', 'точка'])\n",
    "plt.title('Установленная доходность')\n",
    "plt.xlabel('Доходность %')\n",
    "plt.ylabel('Риск %')\n",
    "\n",
    "# рисуем график 2\n",
    "plt.subplot(1, 2, 2)\n",
    "plt.plot(oD, x1, '--')\n",
    "plt.plot(x2, oR)\n",
    "plt.scatter(y, x, c='r')\n",
    "plt.legend(['минимализация риска', 'максимизация доходности', 'точка'])\n",
    "plt.title('Установленный риск')\n",
    "plt.xlabel('Риск %')\n",
    "plt.ylabel('Доходность %')\n",
    "\n",
    "# показываем график\n",
    "plt.show()"
   ]
  },
  {
   "cell_type": "code",
   "execution_count": null,
   "metadata": {},
   "outputs": [],
   "source": []
  },
  {
   "cell_type": "code",
   "execution_count": null,
   "metadata": {},
   "outputs": [],
   "source": []
  }
 ],
 "metadata": {
  "kernelspec": {
   "display_name": "Python 3",
   "language": "python",
   "name": "python3"
  },
  "language_info": {
   "codemirror_mode": {
    "name": "ipython",
    "version": 3
   },
   "file_extension": ".py",
   "mimetype": "text/x-python",
   "name": "python",
   "nbconvert_exporter": "python",
   "pygments_lexer": "ipython3",
   "version": "3.8.3"
  }
 },
 "nbformat": 4,
 "nbformat_minor": 4
}
